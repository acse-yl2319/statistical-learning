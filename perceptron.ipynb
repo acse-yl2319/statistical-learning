{
 "cells": [
  {
   "cell_type": "code",
   "execution_count": 1,
   "metadata": {},
   "outputs": [],
   "source": [
    "import numpy as np\n",
    "import random"
   ]
  },
  {
   "cell_type": "code",
   "execution_count": 2,
   "metadata": {},
   "outputs": [],
   "source": [
    "# creat linearly separable data set, set num = 10, the dim of n = 10\n",
    "# the function of separating hyperplane is w * x + b == 0\n",
    "\n",
    "def creat_data(num=10, dim=10):\n",
    "    b = np.random.rand(1)\n",
    "    w = np.random.rand(dim)\n",
    "    x = np.random.uniform(-50, 50, (num,dim))  # the range of the value of x is [-50,50]\n",
    "\n",
    "    y_label = np.zeros(num)\n",
    "    for i in range(num):\n",
    "        if np.dot(x[i], w) + b >= 0:\n",
    "            y_label[i] = 1\n",
    "        else:\n",
    "            y_label[i] = -1\n",
    "    return(x, y_label)"
   ]
  },
  {
   "cell_type": "code",
   "execution_count": 3,
   "metadata": {},
   "outputs": [],
   "source": [
    "def sign(w, x, b):\n",
    "    if np.dot(w,x)+b >=0:\n",
    "        return 1\n",
    "    else:\n",
    "        return -1"
   ]
  },
  {
   "cell_type": "code",
   "execution_count": 4,
   "metadata": {},
   "outputs": [
    {
     "name": "stdout",
     "output_type": "stream",
     "text": [
      "w = [ 1.37803924  1.22425656  1.13542506  2.92268316  3.13930876 10.27844504\n",
      " -0.98400195  9.49109126  7.48722119  1.10697569]\n",
      "b = -0.20000000000000004\n"
     ]
    }
   ],
   "source": [
    "# primal form\n",
    "\n",
    "num = 10\n",
    "dim = 10\n",
    "x, y_label = creat_data(num, dim)\n",
    "\n",
    "lr = 0.1  # learning rate\n",
    "w = np.zeros(dim) # initial weight vector\n",
    "b = 0 # initial bias\n",
    "sort_correct = np.zeros(num,bool)\n",
    "\n",
    "while not sort_correct.all():\n",
    "    for i in range(num):\n",
    "        if sign(w, x[i], b) == y_label[i]:\n",
    "            sort_correct[i] = True\n",
    "        else:\n",
    "            w += lr * y_label[i] * x[i]\n",
    "            b += lr * y_label[i]\n",
    "            sort_correct = np.zeros(num,bool)\n",
    "            break\n",
    "print('w =', w)\n",
    "print('b =', b)"
   ]
  },
  {
   "cell_type": "code",
   "execution_count": 5,
   "metadata": {},
   "outputs": [
    {
     "name": "stdout",
     "output_type": "stream",
     "text": [
      "w [3. 3.] b 1\n",
      "w [2. 2.] b 0\n",
      "w [1. 1.] b -1\n",
      "w [0. 0.] b -2\n",
      "w [3. 3.] b -1\n",
      "w [2. 2.] b -2\n",
      "w [1. 1.] b -3\n"
     ]
    }
   ],
   "source": [
    "# check the code with the example2.1 in book\n",
    "\n",
    "x = np.array([[3, 3], [4, 3], [1, 1]])\n",
    "y_label = np.array([1, 1, -1])\n",
    "num = 3\n",
    "dim = 2\n",
    "\n",
    "lr = 1  # learning rate\n",
    "w = np.zeros(dim) # initial weight vector\n",
    "b = 0 # initial bias\n",
    "\n",
    "for i in [0, 2, 2, 2, 0, 2, 2]:\n",
    "    if y_label[i] * (np.dot(w, x[i]) + b) <= 0:\n",
    "        w += lr * y_label[i] * x[i]\n",
    "        b += lr * y_label[i]\n",
    "        print('w', w, 'b', b)"
   ]
  },
  {
   "cell_type": "code",
   "execution_count": 6,
   "metadata": {},
   "outputs": [
    {
     "name": "stdout",
     "output_type": "stream",
     "text": [
      "alpha = [0.1 0.1 0.1 0.  0.1 0.1 0.  0.  0.  0. ]\n",
      "b = 0.1\n"
     ]
    }
   ],
   "source": [
    "# dual form\n",
    "\n",
    "num = 10\n",
    "dim = 10\n",
    "x, y_label = creat_data(num, dim)\n",
    "\n",
    "lr = 0.1  # learning rate\n",
    "alpha = np.zeros(num)\n",
    "b = 0 # initial bias\n",
    "sort_correct = np.zeros(num,bool)\n",
    "\n",
    "Gram_matrix = np.dot(x,x.T)\n",
    "\n",
    "while not sort_correct.all():\n",
    "    for i in range(num):\n",
    "        if y_label[i] * ((alpha * y_label * Gram_matrix[i]).sum() + b) > 0:\n",
    "            sort_correct[i] = True\n",
    "        else:\n",
    "            alpha[i] += lr \n",
    "            b += lr * y_label[i]\n",
    "            sort_correct = np.zeros(num,bool)\n",
    "            break\n",
    "            \n",
    "print('alpha =', alpha)\n",
    "print('b =', b)\n"
   ]
  },
  {
   "cell_type": "code",
   "execution_count": 7,
   "metadata": {},
   "outputs": [
    {
     "name": "stdout",
     "output_type": "stream",
     "text": [
      "Gram_matrix\n",
      " [[18 21  6]\n",
      " [21 25  7]\n",
      " [ 6  7  2]]\n",
      "alpha [1. 0. 0.] b 1\n",
      "alpha [1. 0. 1.] b 0\n",
      "alpha [1. 0. 2.] b -1\n",
      "alpha [1. 0. 3.] b -2\n",
      "alpha [2. 0. 3.] b -1\n",
      "alpha [2. 0. 4.] b -2\n",
      "alpha [2. 0. 5.] b -3\n"
     ]
    }
   ],
   "source": [
    "# check the code with the example2.2 in book\n",
    "\n",
    "x = np.array([[3, 3], [4, 3], [1, 1]])\n",
    "y_label = np.array([1, 1, -1])\n",
    "num = 3\n",
    "\n",
    "lr = 1  # learning rate\n",
    "alpha = np.zeros(num)\n",
    "b = 0 # initial bias\n",
    "\n",
    "Gram_matrix = np.dot(x,x.T)\n",
    "print('Gram_matrix\\n',Gram_matrix)\n",
    "\n",
    "for i in [0, 2, 2, 2, 0, 2, 2]: # because index begins from 0 in python\n",
    "    if y_label[i] * ((alpha * y_label * Gram_matrix[i]).sum() + b) <= 0:\n",
    "            alpha[i] += lr \n",
    "            b += lr * y_label[i]\n",
    "            print('alpha',alpha,'b',b)"
   ]
  },
  {
   "cell_type": "code",
   "execution_count": null,
   "metadata": {},
   "outputs": [],
   "source": []
  }
 ],
 "metadata": {
  "kernelspec": {
   "display_name": "Python 3",
   "language": "python",
   "name": "python3"
  },
  "language_info": {
   "codemirror_mode": {
    "name": "ipython",
    "version": 3
   },
   "file_extension": ".py",
   "mimetype": "text/x-python",
   "name": "python",
   "nbconvert_exporter": "python",
   "pygments_lexer": "ipython3",
   "version": "3.7.3"
  }
 },
 "nbformat": 4,
 "nbformat_minor": 2
}
