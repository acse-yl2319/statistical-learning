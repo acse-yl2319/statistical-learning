{
 "cells": [
  {
   "cell_type": "code",
   "execution_count": 1,
   "metadata": {},
   "outputs": [],
   "source": [
    "import numpy as np\n",
    "import random"
   ]
  },
  {
   "cell_type": "code",
   "execution_count": 2,
   "metadata": {},
   "outputs": [
    {
     "data": {
      "text/plain": [
       "array([-1.,  1.,  1., -1.,  1.,  1.,  1., -1.,  1.,  1.])"
      ]
     },
     "execution_count": 2,
     "metadata": {},
     "output_type": "execute_result"
    }
   ],
   "source": [
    "# creat linearly separable data set, set num = 10, the dim of n = 10\n",
    "# the function of separating hyperplane is w * x + b == 0\n",
    "num = 10\n",
    "dim = 10\n",
    "b = np.random.rand(1)\n",
    "w = np.random.rand(dim)\n",
    "x = np.random.uniform(-50, 50, (num,dim))  # the range of the value of x is [-50,50]\n",
    "\n",
    "y_label = np.zeros(num)\n",
    "for i in range(num):\n",
    "    if np.dot(x[i], w) + b >= 0:\n",
    "        y_label[i] = 1\n",
    "    else:\n",
    "        y_label[i] = -1\n",
    "y_label"
   ]
  },
  {
   "cell_type": "code",
   "execution_count": 3,
   "metadata": {},
   "outputs": [
    {
     "name": "stdout",
     "output_type": "stream",
     "text": [
      "x data =  [[-45.46353822  -5.71422254 -17.57591404  -3.22737109   3.47429976\n",
      "  -42.35056098 -19.22857076 -18.19017299  22.64732279 -33.54221419]\n",
      " [-31.43842491  -6.67770542   7.7665089    8.52493344  34.51897809\n",
      "    5.52729669   3.47435206  45.1805584   -3.49166007 -44.75888601]\n",
      " [ 42.3467026   -1.49942099  41.16489137  13.09006663  33.54190178\n",
      "  -43.34749213  17.42073611 -31.95307678 -33.24314042  25.61085509]\n",
      " [  1.47021611 -14.69463465 -28.93401358 -47.65190444 -28.53275238\n",
      "   22.42705554 -25.43792612 -32.47143836 -43.82847648  43.43654519]\n",
      " [-10.44881787  47.01710763  25.20321557  42.36188559   2.44454332\n",
      "   14.75573475 -24.33566915  35.54393896   8.58806092 -30.77665297]\n",
      " [-21.70539436  45.56175091   6.0473067   22.0031995  -31.75621276\n",
      "   40.94024073 -44.92809232  -6.79620792 -10.04863316   6.4007233 ]\n",
      " [ 12.36518723  -3.97052852 -34.33524911 -15.22901487  38.23317468\n",
      "   47.35064035  44.06472227  -3.52255079  43.66382135 -15.5295804 ]\n",
      " [ 16.97044406 -38.58496523  11.90228334  22.73716273  -4.17121055\n",
      "   -1.51011629   1.74521179  -4.80152726 -30.59597519  17.98269441]\n",
      " [ 12.91171836  -6.8771797   14.6436684   32.04922361 -49.79776131\n",
      "  -43.91200089   4.15643465  19.68472764 -40.74392474   1.65705399]\n",
      " [ -4.60015808 -43.46583997  -7.28667087  -9.94767499  42.0854039\n",
      "   47.32248385   2.33616475  45.84832624 -22.74108896 -23.63970603]]\n",
      "y_label data =  [-1.  1.  1. -1.  1.  1.  1. -1.  1.  1.]\n"
     ]
    }
   ],
   "source": [
    "print('x data = ', x)\n",
    "print('y_label data = ', y_label)"
   ]
  },
  {
   "cell_type": "code",
   "execution_count": 4,
   "metadata": {},
   "outputs": [],
   "source": [
    "def sign(w, x, b):\n",
    "    if np.dot(w,x)+b >=0:\n",
    "        return 1\n",
    "    else:\n",
    "        return -1"
   ]
  },
  {
   "cell_type": "code",
   "execution_count": 5,
   "metadata": {},
   "outputs": [
    {
     "name": "stdout",
     "output_type": "stream",
     "text": [
      "w = [ 4.29728831  7.0836104   4.0960757   4.09286167  2.54369913  5.0419362\n",
      "  4.16715117  4.55851508 -3.59148846 -1.10603142]\n",
      "b = 0.30000000000000004\n",
      "the answer is correct\n"
     ]
    }
   ],
   "source": [
    "# primal form\n",
    "\n",
    "lr = 0.1  # learning rate\n",
    "w = np.zeros(dim) # initial weight vector\n",
    "b = 0 # initial bias\n",
    "sort_correct = np.zeros(num,bool)\n",
    "\n",
    "while not sort_correct.all():\n",
    "    for i in range(num):\n",
    "        if sign(w, x[i], b) == y_label[i]:\n",
    "            sort_correct[i] = True\n",
    "        else:\n",
    "            w += lr * y_label[i] * x[i]\n",
    "            b += lr * y_label[i]\n",
    "            sort_correct = np.zeros(num,bool)\n",
    "            break\n",
    "print('w =', w)\n",
    "print('b =', b)\n",
    "\n",
    "# check the answer\n",
    "sort_correct = np.zeros(num,bool)\n",
    "for i in range(num):\n",
    "    if y_label[i] * (np.dot(w, x[i]) + b) > 0:\n",
    "        sort_correct[i] = True\n",
    "        \n",
    "if sort_correct.all():\n",
    "    print('the answer is correct')\n",
    "else:\n",
    "    print('there is something wrong')"
   ]
  },
  {
   "cell_type": "code",
   "execution_count": 6,
   "metadata": {},
   "outputs": [
    {
     "name": "stdout",
     "output_type": "stream",
     "text": [
      "alpha = [0.1 0.1 0.1 0.  0.  0.1 0.1 0.1 0.1 0. ]\n",
      "b = 0.30000000000000004\n",
      "the answer is correct\n"
     ]
    }
   ],
   "source": [
    "# dual form\n",
    "\n",
    "lr = 0.1  # learning rate\n",
    "alpha = np.zeros(dim) # initial weight vector\n",
    "b = 0 # initial bias\n",
    "sort_correct = np.zeros(num,bool)\n",
    "\n",
    "Gram_matrix = np.dot(x,x.T)\n",
    "\n",
    "while not sort_correct.all():\n",
    "    for i in range(num):\n",
    "        if y_label[i] * ((alpha * y_label * Gram_matrix[i]).sum() + b) > 0:\n",
    "            sort_correct[i] = True\n",
    "        else:\n",
    "            alpha[i] += lr \n",
    "            b += lr * y_label[i]\n",
    "            sort_correct = np.zeros(num,bool)\n",
    "            break\n",
    "\n",
    "print('alpha =', alpha)\n",
    "print('b =', b)\n",
    "\n",
    "# check the answer\n",
    "sort_correct = np.zeros(num,bool)\n",
    "for i in range(num):\n",
    "    if (y_label[i] * alpha * y_label * np.dot(x, x[i].T)).sum() > 0: \n",
    "        sort_correct[i] = True\n",
    "\n",
    "if sort_correct.all():\n",
    "    print('the answer is correct')\n",
    "else:\n",
    "    print('there is something wrong')"
   ]
  },
  {
   "cell_type": "code",
   "execution_count": null,
   "metadata": {},
   "outputs": [],
   "source": []
  }
 ],
 "metadata": {
  "kernelspec": {
   "display_name": "Python 3",
   "language": "python",
   "name": "python3"
  },
  "language_info": {
   "codemirror_mode": {
    "name": "ipython",
    "version": 3
   },
   "file_extension": ".py",
   "mimetype": "text/x-python",
   "name": "python",
   "nbconvert_exporter": "python",
   "pygments_lexer": "ipython3",
   "version": "3.7.3"
  }
 },
 "nbformat": 4,
 "nbformat_minor": 2
}
